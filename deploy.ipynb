{
 "cells": [
  {
   "cell_type": "markdown",
   "metadata": {},
   "source": [
    "# Joint Sagemaker And Lambda Container\n",
    "This notebook deploys the joint image to sagemaker serving and tests the inference."
   ]
  },
  {
   "cell_type": "code",
   "execution_count": null,
   "metadata": {},
   "outputs": [],
   "source": [
    "# Set the image uri (the one you pushed), sagemaker role, and model uri\n",
    "image_uri='REPO/joint-sm-lambda:latest'\n",
    "role='my_sagemaker_role'\n",
    "model_data='s3://MY_BUCKET/PATH/TO/MODEL.tar.gz'"
   ]
  },
  {
   "cell_type": "code",
   "execution_count": 2,
   "metadata": {},
   "outputs": [],
   "source": [
    "from sagemaker.mxnet.model import MXNetModel\n",
    "model = MXNetModel(\n",
    "    model_data = model_data,\n",
    "    image_uri=image_uri,\n",
    "    role = role,\n",
    "    entry_point = None,\n",
    "    framework_version = '1.8.0'\n",
    ")"
   ]
  },
  {
   "cell_type": "code",
   "execution_count": 3,
   "metadata": {},
   "outputs": [
    {
     "name": "stdout",
     "output_type": "stream",
     "text": [
      "----!"
     ]
    }
   ],
   "source": [
    "predictor = model.deploy(initial_instance_count=1, instance_type=\"ml.c5.xlarge\")"
   ]
  },
  {
   "cell_type": "code",
   "execution_count": 4,
   "metadata": {},
   "outputs": [
    {
     "data": {
      "text/plain": [
       "{'uri': 'https://cv.gluon.ai/_static/classification-demo.png',\n",
       " 'results': [{'label': 216, 'prob': '0.20939805'},\n",
       "  {'label': 219, 'prob': '0.16277963'},\n",
       "  {'label': 220, 'prob': '0.11135251'},\n",
       "  {'label': 156, 'prob': '0.059601676'},\n",
       "  {'label': 218, 'prob': '0.04041979'}]}"
      ]
     },
     "execution_count": 4,
     "metadata": {},
     "output_type": "execute_result"
    }
   ],
   "source": [
    "predictor.predict({'uri':\"https://cv.gluon.ai/_static/classification-demo.png\"})"
   ]
  },
  {
   "cell_type": "code",
   "execution_count": 5,
   "metadata": {},
   "outputs": [],
   "source": [
    "predictor.delete_endpoint()"
   ]
  }
 ],
 "metadata": {
  "interpreter": {
   "hash": "d42fcaabb6614f3593383b0e8c72f6c991799997f7b549d2f2585571ef623d99"
  },
  "kernelspec": {
   "display_name": "Python 3.7.11 64-bit ('build-FhEW-r5H': pipenv)",
   "name": "python3"
  },
  "language_info": {
   "codemirror_mode": {
    "name": "ipython",
    "version": 3
   },
   "file_extension": ".py",
   "mimetype": "text/x-python",
   "name": "python",
   "nbconvert_exporter": "python",
   "pygments_lexer": "ipython3",
   "version": "3.9.1"
  },
  "orig_nbformat": 4
 },
 "nbformat": 4,
 "nbformat_minor": 2
}
